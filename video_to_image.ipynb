{
 "cells": [
  {
   "cell_type": "code",
   "execution_count": 52,
   "metadata": {},
   "outputs": [],
   "source": [
    "import cv2 \n",
    "import os \n",
    "import math\n",
    "import numpy as np "
   ]
  },
  {
   "cell_type": "code",
   "execution_count": 53,
   "metadata": {},
   "outputs": [],
   "source": [
    "path = \"/Users/olenka/Downloads/MOV_0495.mp4\""
   ]
  },
  {
   "cell_type": "code",
   "execution_count": 77,
   "metadata": {},
   "outputs": [],
   "source": [
    "def cartoonize_image(img, ksize=5, sketch_mode=False):\n",
    "    num_repetitions, sigma_color, sigma_space, ds_factor = 10, 5, 7, 4 \n",
    "    # Convert image to grayscale \n",
    "    img_gray = cv2.cvtColor(img, cv2.COLOR_BGR2GRAY) \n",
    " \n",
    "    # Apply median filter to the grayscale image \n",
    "    img_gray = cv2.medianBlur(img_gray, 5) #7\n",
    " \n",
    "    # Detect edges in the image and threshold it \n",
    "    edges = cv2.Laplacian(img_gray, cv2.CV_8U, ksize=ksize) \n",
    "    ret, mask = cv2.threshold(edges, 100, 255, cv2.THRESH_BINARY_INV) \n",
    " \n",
    "    # 'mask' is the sketch of the image \n",
    "    if sketch_mode: \n",
    "        return cv2.cvtColor(mask, cv2.COLOR_GRAY2BGR) \n",
    " \n",
    "    # Resize the image to a smaller size for faster computation \n",
    "    img_small = cv2.resize(img, None, fx=1.0/ds_factor, fy=1.0/ds_factor, interpolation=cv2.INTER_AREA)\n",
    " \n",
    "    # Apply bilateral filter the image multiple times \n",
    "    for i in range(num_repetitions): \n",
    "        img_small = cv2.bilateralFilter(img_small, ksize, sigma_color, sigma_space) \n",
    " \n",
    "    img_output = cv2.resize(img_small, None, fx=ds_factor, fy=ds_factor, interpolation=cv2.INTER_LINEAR) \n",
    " \n",
    "    dst = np.zeros(img_gray.shape) \n",
    " \n",
    "    # Add the thick boundary lines to the image using 'AND' operator \n",
    "    dst = cv2.bitwise_and(img_output, img_output, mask=mask) \n",
    "    return dst "
   ]
  },
  {
   "cell_type": "code",
   "execution_count": 78,
   "metadata": {},
   "outputs": [],
   "source": [
    "def fn(path, time):\n",
    "    cam = cv2.VideoCapture(path)\n",
    "    fps = math.floor(cam.get(cv2.CAP_PROP_FPS))\n",
    "    print(fps)\n",
    "    currentframe = 0\n",
    "    path_to_pack = \"/Users/olenka/Desktop/rubbish/\"\n",
    "    while(True): \n",
    "        ret,frame = cam.read() \n",
    "  \n",
    "        if ret: \n",
    "            current = math.floor(currentframe/fps)\n",
    "            if (current in time):\n",
    "                name = path_to_pack + str(currentframe) + '.jpg'\n",
    "                print ('Creating...' + name) \n",
    "                cv2.imwrite(name, cartoonize_image(frame, ksize=5, sketch_mode=False))\n",
    "                time.remove(current)\n",
    "                \n",
    "            currentframe += 1\n",
    "        else: \n",
    "            break\n",
    "  \n",
    "    # Release all space and windows once done \n",
    "    cam.release() \n",
    "    cv2.destroyAllWindows()"
   ]
  },
  {
   "cell_type": "code",
   "execution_count": 79,
   "metadata": {},
   "outputs": [
    {
     "name": "stdout",
     "output_type": "stream",
     "text": [
      "29\n",
      "Creating.../Users/olenka/Desktop/rubbish/29.jpg\n",
      "Creating.../Users/olenka/Desktop/rubbish/145.jpg\n",
      "Creating.../Users/olenka/Desktop/rubbish/261.jpg\n"
     ]
    }
   ],
   "source": [
    "fn(path, [1,5,9])"
   ]
  },
  {
   "cell_type": "code",
   "execution_count": null,
   "metadata": {},
   "outputs": [],
   "source": []
  }
 ],
 "metadata": {
  "kernelspec": {
   "display_name": "Python 3",
   "language": "python",
   "name": "python3"
  },
  "language_info": {
   "codemirror_mode": {
    "name": "ipython",
    "version": 3
   },
   "file_extension": ".py",
   "mimetype": "text/x-python",
   "name": "python",
   "nbconvert_exporter": "python",
   "pygments_lexer": "ipython3",
   "version": "3.7.1"
  }
 },
 "nbformat": 4,
 "nbformat_minor": 2
}
